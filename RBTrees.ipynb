{
 "cells": [
  {
   "cell_type": "markdown",
   "metadata": {},
   "source": [
    "# **Implementing Red/Black Trees (RBTs)**\n",
    "#### Carl Ehrett, Stephen Peele"
   ]
  },
  {
   "cell_type": "markdown",
   "metadata": {},
   "source": [
    "### **1. Why care about red/black trees?**\n",
    "\n",
    "#### Binary search trees\n",
    "A red/black tree (RBT) is a type of binary search tree (BST). Recall that a BST has the following properties:\n",
    "- Each node may have up to two children. \n",
    "- All left descendants of a node are less than that node. \n",
    "- All right descendants of a node are greater than that node.\n",
    "- Insert, delete, and lookup are all $\\mathcal O (h)$ where $h$ is the height of the tree.\n",
    "- In average cases, $h$ is proportional to $\\log n$, making the above operations $\\mathcal O (\\log n)$.\n",
    "\n",
    "#### Motivation to use red/black trees\n",
    "\n",
    "- Though the complexity of insert, delete and lookup for a BST are $\\mathcal O(\\log n)$ in the average case, they are $\\mathcal{O}(n)$ in the worst case. \n",
    "- It may be the case that a BST is highly unbalanced either inherently or through a sequence of operations.\n",
    "- If the depth of the tree is becomes too great, then operations may become very inefficient.\n",
    "- Is there a way to maintain the \"balance\" in a BST and improve the worst case complexity? *Yes!*\n",
    "- This leads to the red/black tree.\n",
    "\n",
    "#### What is a red/black tree?\n",
    "\n",
    "A red/black tree is a BST with the following additional properties:\n",
    "- Every node has a color -- red or black.\n",
    "- Every red node that is not a leaf has only black children.\n",
    "- Every path from the root to a leaf contains the same number of black nodes. \n",
    "- The root node is black.\n",
    "\n",
    "After any operation on a RBT, these properties have to be restored (if necessary). These constraints force the BST to maintain \"balance\" -- the depth is on average roughly $2\\log n$ (Sedgewick, 2008). For example, a RBT with 500 random elements is, on average, about twelve (12) nodes deep! \n",
    "\n",
    "*Visualization*: https://www.cs.usfca.edu/~galles/visualization/RedBlack.html\n",
    "\n",
    "#### What is gained?\n",
    "\n",
    "- Very clearly, a balanced tree lends itself to more efficient operations. \n",
    "- The RBT constraints force the BST to maintain some sense of balance (not to imply perfect symmetry)!\n",
    "- All operations on a RBT are worst-case $\\mathcal{O}(\\log n)$, certainly a marked improvement from $\\mathcal{O}(n)$.\n",
    "\n",
    "#### Real Instances of RBTs\n",
    "- One use: the ext3 file system uses RBTs to keep track of directory entries in the Linux kernel.\n",
    "\n",
    "#### Main results\n",
    "- Implemented RBTs in Python.\n",
    "- Visually, the balance in a RBT versus a BST for identical data is distinctly clear. \n",
    "- Timing tests demonstrate that the RBTs are indeed more efficient than BSTs in the worst-case.\n",
    "- For average case, the RBT may actually be slower than the BST since the RBT has more computational overhead (as tested on SageMathCloud)."
   ]
  },
  {
   "cell_type": "markdown",
   "metadata": {},
   "source": [
    "### **2. Background: Tree nodes, binary search trees, and plot_tree**\n",
    "In this section, we establish code for tree nodes, binary search trees, and plot_tree (a function for plotting trees)."
   ]
  },
  {
   "cell_type": "code",
   "execution_count": 1,
   "metadata": {},
   "outputs": [],
   "source": [
    "import matplotlib.pyplot as plt\n",
    "from pylab import rcParams"
   ]
  },
  {
   "cell_type": "code",
   "execution_count": 2,
   "metadata": {},
   "outputs": [],
   "source": [
    "class TreeNode(object):\n",
    "    def __init__(self, data, left_child = None, right_child = None):\n",
    "        self.data  = data\n",
    "        self.left  = left_child\n",
    "        self.right = right_child\n",
    "        self.color = 1 # 1 for red, 0 for black \n",
    "    \n",
    "    def traverse_infix(self, result = None):\n",
    "        if result == None:\n",
    "            result = []\n",
    "            \n",
    "        if self.left:\n",
    "            self.left.traverse_infix(result)\n",
    "            \n",
    "        result.append(self.data)\n",
    "        \n",
    "        if self.right:\n",
    "            self.right.traverse_infix(result)\n",
    "            \n",
    "        return result"
   ]
  },
  {
   "cell_type": "code",
   "execution_count": 3,
   "metadata": {},
   "outputs": [],
   "source": [
    "# create a graphical representation of a binary tree (plot_tree, below, uses plot_node)\n",
    "def plot_node(node, rb = True, level = 1, posx = 0, posy = 0):\n",
    "    \n",
    "    width = 2000.0 * (0.5**(level)) # This will be used to space nodes horizontally\n",
    "    if node.color == 0 or rb == False: plt.text(posx, posy, str(node.data), horizontalalignment='center',color='k',fontsize=10)\n",
    "    else: plt.text(posx, posy, str(node.data), horizontalalignment='center',color='r',fontsize=10)\n",
    "    \n",
    "    if node.left:\n",
    "        px = [posx, posx-width]\n",
    "        py = [posy-1, posy-15]\n",
    "        if node.left.color == 0 or rb==False: plt.plot(px,py,'k-',hold=True)\n",
    "        else: plt.plot(px,py,'r-',hold=True)\n",
    "        plot_node(node.left, rb, level+1, posx-width, posy-20)\n",
    "    \n",
    "    if node.right:\n",
    "        plot_node(node.right, rb, level+1, posx+width, posy-20)\n",
    "        px = [posx, posx+width]\n",
    "        py = [posy-1, posy-15]\n",
    "        if node.right.color == 0 or rb==False:  plt.plot(px,py,'k-',hold=True)\n",
    "        else: plt.plot(px,py,'r-',hold=True)\n",
    "\n",
    "def plot_tree(node, figsize=(10,6)):\n",
    "    if node.color == 1: rb=False\n",
    "    else: rb=True\n",
    "    rcParams['figure.figsize'] = figsize\n",
    "    fig, ax = plt.subplots()\n",
    "    ax.axis('off')\n",
    "    plot_node(node,rb)\n",
    "    plt.show()\n",
    "    \n",
    "##### Create also a normal, black-only version for testing\n",
    "# create a graphical representation of a binary tree (plot_tree uses plot_node)\n",
    "def plot_nodeBW(node, level = 1, posx = 0, posy = 0):\n",
    "    \n",
    "    width = 2000.0 * (0.5**(level))\n",
    "    if node != None: \n",
    "        plt.text(posx, posy, str(node.data), horizontalalignment='center',color='k',fontsize=10)\n",
    "        if node.left:\n",
    "            px = [posx, posx-width]\n",
    "            py = [posy-1, posy-18]\n",
    "            plt.plot(px,py,'k-',hold=True)\n",
    "            plot_node(node.left, level+1, posx-width, posy-20)\n",
    "    \n",
    "        if node.right:\n",
    "            plot_node(node.right, level+1, posx+width, posy-20)\n",
    "            px = [posx, posx+width]\n",
    "            py = [posy-1, posy-18]\n",
    "            plt.plot(px,py,'k-',hold=True)\n",
    "    else: plt.text(posx, posy, 'NONE', horizontalalignment='center',color='k',fontsize=10)\n",
    "    \n",
    "    \n",
    "        \n",
    "def plot_treeBW(node, figsize=(10,6)):\n",
    "    rcParams['figure.figsize'] = figsize\n",
    "    fig, ax = plt.subplots()\n",
    "    ax.axis('off')\n",
    "    plot_nodeBW(node)\n",
    "    plt.show()\n"
   ]
  },
  {
   "cell_type": "code",
   "execution_count": 4,
   "metadata": {},
   "outputs": [],
   "source": [
    "## Below is code to implement a (colorless) binary search tree.\n",
    "class BST(object):\n",
    "    def __init__(self):\n",
    "        self.tree = None\n",
    "    \n",
    "    def _find_node(self, node, obj):\n",
    "        if node == None:\n",
    "            return None\n",
    "        if node.data == obj:\n",
    "            return node\n",
    "        if obj < node.data:\n",
    "            return self._find_node(node.left, obj)\n",
    "        else: # so obj > node.data\n",
    "            return self._find_node(node.right, obj)\n",
    "    \n",
    "    def is_element(self, obj):\n",
    "        node = self._find_node(self.tree, obj)\n",
    "        if node:\n",
    "            return True\n",
    "        else:\n",
    "            return False\n",
    "\n",
    "    def _insert(self, node, obj):\n",
    "        if obj < node.data:\n",
    "            if node.left:\n",
    "                self._insert(node.left, obj)\n",
    "            else:\n",
    "                node.left = TreeNode(obj)\n",
    "        elif obj > node.data:\n",
    "            if node.right:\n",
    "                self._insert(node.right, obj)\n",
    "            else:\n",
    "                node.right = TreeNode(obj)\n",
    "        # do nothing if equal\n",
    "    \n",
    "    def insert(self, obj):\n",
    "        if self.tree == None:\n",
    "            self.tree = TreeNode(obj)\n",
    "        else:\n",
    "            self._insert(self.tree, obj)\n",
    "        \n",
    "    def _replace_child(self, node, old, new):\n",
    "        if node==None:\n",
    "            self.tree = new\n",
    "        elif node.left == old:\n",
    "            node.left = new\n",
    "        elif node.right == old:\n",
    "            node.right = new\n",
    "        else:\n",
    "            assert(false)\n",
    "    \n",
    "    def _delete_node(self, parent, node, obj):\n",
    "        if node == None:\n",
    "            return\n",
    "        if obj < node.data:\n",
    "            # traverse left\n",
    "            self._delete_node(node,node.left, obj)\n",
    "        elif obj > node.data:\n",
    "            # traverse right\n",
    "            self._delete_node(node,node.right, obj)\n",
    "        elif node.data == obj:\n",
    "            if node.left == None:\n",
    "                # no left child, so replace node by its right child\n",
    "                self._replace_child(parent, node, node.right)\n",
    "            elif node.right == None:\n",
    "                # no right child, so replace node by its left child\n",
    "                self._replace_child(parent, node, node.left)\n",
    "            else: # node has two children:\n",
    "                parent = node\n",
    "                pred   = node.left\n",
    "                while pred.right: \n",
    "                    parent = pred\n",
    "                    pred   = pred.right\n",
    "                node.data=pred.data\n",
    "                self._replace_child(parent, pred, pred.left)\n",
    "                \n",
    "                # find predecessor pred, replace node.data with it:\n",
    "                # ...\n",
    "                \n",
    "                # now replace the predecessor by its left child:\n",
    "                # ...\n",
    "    \n",
    "    def delete(self, obj):\n",
    "        if self.tree == None:\n",
    "            return\n",
    "        self._delete_node(None, self.tree, obj)        \n"
   ]
  },
  {
   "cell_type": "markdown",
   "metadata": {},
   "source": [
    "### **3. Left-leaning Red/Black Trees**\n",
    "In this section, we implement a class for left-leaning red/black trees, a la Sedgewick 2008."
   ]
  },
  {
   "cell_type": "code",
   "execution_count": 5,
   "metadata": {},
   "outputs": [],
   "source": [
    "### Here is the LLRBT implementation.\n",
    "class RBT(object):\n",
    "    def __init__(self):\n",
    "        \"\"\"Initialize a red/black tree.\"\"\"\n",
    "        self.tree = None\n",
    "    \n",
    "    def _find_node(self, node, obj):\n",
    "        \"\"\"Private function for traversing tree to lookup obj.\"\"\"\n",
    "        if node == None:\n",
    "            return None\n",
    "        if node.data == obj:\n",
    "            return node\n",
    "        if obj < node.data:\n",
    "            return self._find_node(node.left, obj)\n",
    "        else: # so obj > node.data\n",
    "            return self._find_node(node.right, obj)\n",
    "    \n",
    "    def is_element(self, obj):\n",
    "        \"\"\"Public function to lookup obj. Returns True iff obj is in tree.\"\"\"\n",
    "        node = self._find_node(self.tree, obj)\n",
    "        if node:\n",
    "            return True\n",
    "        else:\n",
    "            return False\n",
    "\n",
    "    def _insert(self, node, obj, ):\n",
    "        \"\"\"Private function for traversing tree to insert obj. Perform color changes on the way down, and rotations on the way up, to preserve RBT properties.\"\"\"\n",
    "        if node == None: return TreeNode(obj) # If we've arrived at a terminus, then make new node.\n",
    "        if self._isRed(node.left) and self._isRed(node.right): self._colorFlip(node) # If both children are red, then colorflip\n",
    "        if obj < node.data: node.left = self._insert(node.left,obj)\n",
    "        elif obj > node.data: node.right = self._insert(node.right,obj)\n",
    "        if self._isRed(node.right) and not self._isRed(node.left): node = self._rotateLeft(node)\n",
    "        if self._isRed(node.left) and self._isRed(node.left.left): node = self._rotateRight(node)\n",
    "        return node\n",
    "    \n",
    "    def insert(self, obj):\n",
    "        \"\"\"Public function to insert obj in tree.\"\"\"\n",
    "        if self.tree == None:\n",
    "            self.tree = TreeNode(obj)\n",
    "        else:\n",
    "            self.tree = self._insert(self.tree, obj)\n",
    "            self.tree.color = 0 # The root must always be black\n",
    "            \n",
    "    def _colorFlip(self,node): # flip the colors of node and its children\n",
    "        \"\"\"Flip the color of node and its children. Used internally to preserve RBT properties.\"\"\"\n",
    "        node.color       = 1 - node.color\n",
    "        if node.left: node.left.color  = 1 - node.left.color\n",
    "        if node.right: node.right.color = 1 - node.right.color\n",
    "    \n",
    "    def _rotateRight(self,node): # rotate right\n",
    "        \"\"\"Rotate node right, preserving RBT properties.\"\"\"\n",
    "        originalLeft = node.left\n",
    "        node.left = originalLeft.right\n",
    "        originalLeft.right = node\n",
    "        originalLeft.color = node.color\n",
    "        node.color = 1\n",
    "        return originalLeft\n",
    "        \n",
    "    def _rotateLeft(self,node): # rotate left\n",
    "        \"\"\"Rotate node left, preserving RBT properties.\"\"\"\n",
    "        originalRight = node.right\n",
    "        node.right = originalRight.left\n",
    "        originalRight.left = node\n",
    "        originalRight.color = node.color\n",
    "        node.color = 1\n",
    "        return originalRight\n",
    "    \n",
    "    def _isRed(self,node): \n",
    "        \"\"\"Returns True iff node is red.\"\"\"\n",
    "        if node == None: return 0 # Nil nodes are black\n",
    "        return(node.color==1)\n",
    "        \n",
    "    def _delete_node(self, node, obj):\n",
    "        \"\"\"Private function for traversing tree to delete obj. Perform movements and rotations during traversal to preserve RBT properties.\"\"\"\n",
    "        if node == None: return node \n",
    "        if obj < node.data:\n",
    "            if node.left == None or (not self._isRed(node.left) and not self._isRed(node.left.left)):\n",
    "                node = self._moveRedLeft(node)\n",
    "            node.left = self._delete_node(node.left, obj)\n",
    "        else:\n",
    "            if self._isRed(node.left): node = self._rotateRight(node) \n",
    "            if obj == node.data and node.right == None: \n",
    "                return None\n",
    "            if node.right == None or (not self._isRed(node.right) and not self._isRed(node.right.left)): \n",
    "                node = self._moveRedRight(node)\n",
    "            if obj == node.data:\n",
    "                node.data = self._min(node.right)\n",
    "                node.right = self._deleteMin(node.right)\n",
    "            else: node.right = self._delete_node(node.right, obj)\n",
    "        return self.fixUp(node)\n",
    "    \n",
    "    def _deleteMin(self,node):\n",
    "        \"\"\"Delete the minimum descendant of node. Performs movements during traversal to preserve RBT properties.\"\"\"\n",
    "        if node.left == None: return None\n",
    "        if node.left == None or (not self._isRed(node.left) and not self._isRed(node.left.left)):\n",
    "            node = self._moveRedLeft(node)\n",
    "        node.left = self._deleteMin(node.left)\n",
    "        return self.fixUp(node)\n",
    "    \n",
    "    def _min(self,node): \n",
    "        \"\"\"Return the data of the minimum descendant of node.\"\"\"\n",
    "        while node.left != None: node = node.left \n",
    "        if node == None: return None \n",
    "        else: return node.data \n",
    "        \n",
    "    def _moveRedLeft(self, node):\n",
    "        \"\"\"Moves red node left. Used internally to preserve RBT properties.\"\"\"\n",
    "        self._colorFlip(node)\n",
    "        if node.right and self._isRed(node.right.left):\n",
    "            node.right = self._rotateRight(node.right)\n",
    "            node = self._rotateLeft(node)\n",
    "            self._colorFlip(node)\n",
    "        return node\n",
    "    \n",
    "    def _moveRedRight(self, node):\n",
    "        \"\"\"Moves red node right. Used internally to preserve RBT properties.\"\"\"\n",
    "        self._colorFlip(node)\n",
    "        if node.left and self._isRed(node.left.left):\n",
    "            node = self._rotateRight(node)\n",
    "            self._colorFlip(node)\n",
    "        return node\n",
    "    \n",
    "    def delete(self, obj):\n",
    "        \"\"\"Public function for deleting node containing obj.\"\"\"\n",
    "        if self.tree == None:\n",
    "            return\n",
    "        else:\n",
    "            self.tree = self._delete_node(self.tree, obj)\n",
    "    \n",
    "    def fixUp(self, node):\n",
    "        \"\"\"Rotates and colorflips where necessary. Used internally to preserve RBT properties.\"\"\"\n",
    "        if self._isRed(node.right): \n",
    "            node = self._rotateLeft(node)\n",
    "        if self._isRed(node.left) and self._isRed(node.left.left): \n",
    "            node = self._rotateRight(node)\n",
    "        if self._isRed(node.left) and self._isRed(node.right): \n",
    "            self._colorFlip(node)\n",
    "        return node\n",
    "        \n"
   ]
  },
  {
   "cell_type": "markdown",
   "metadata": {},
   "source": [
    "### **4. Demonstrating red/black trees**\n",
    "In this section, we demonstrate the use of the red/black trees implemented above, providing some visual comparisons with ordinary binary search trees. An example of worst-case insert for an ordinary binary search tree is considered."
   ]
  },
  {
   "cell_type": "code",
   "execution_count": 6,
   "metadata": {
    "scrolled": false
   },
   "outputs": [
    {
     "name": "stdout",
     "output_type": "stream",
     "text": [
      "['Alice', 'Bob', 'Carol', 'Doug', 'Eve', 'Frank', 'Ginger', 'Howard', 'Irene', 'Jeff', 'Kathy', 'Luis', 'Mabel', 'Norm', 'Oprah', 'Peter', 'Queen', 'Ronald', 'Sarah', 'Tom', 'Ursala', 'Vince', 'Wanda', 'Yaakov', 'Zandra']\n",
      "['Alice', 'Bob', 'Carol', 'Doug', 'Eve', 'Frank', 'Ginger', 'Howard', 'Irene', 'Jeff', 'Kathy', 'Luis', 'Mabel', 'Norm', 'Oprah', 'Peter', 'Queen', 'Ronald', 'Sarah', 'Tom', 'Ursala', 'Vince', 'Wanda', 'Yaakov', 'Zandra']\n"
     ]
    },
    {
     "name": "stderr",
     "output_type": "stream",
     "text": [
      "C:\\Users\\carle\\Anaconda3\\envs\\py27\\lib\\site-packages\\matplotlib\\pyplot.py:3361: MatplotlibDeprecationWarning: The 'hold' keyword argument is deprecated since 2.0.\n",
      "  mplDeprecation)\n"
     ]
    },
    {
     "data": {
      "image/png": "[encoded data removed]",
      "text/plain": [
       "<Figure size 1008x288 with 1 Axes>"
      ]
     },
     "metadata": {
      "needs_background": "light"
     },
     "output_type": "display_data"
    },
    {
     "data": {
      "image/png": "[encoded data removed]",
      "text/plain": [
       "<Figure size 1008x288 with 1 Axes>"
      ]
     },
     "metadata": {
      "needs_background": "light"
     },
     "output_type": "display_data"
    }
   ],
   "source": [
    "# Testing out insert on the family tree from homework 9\n",
    "people1 = ['Bob','Alice','Doug','Kathy','Queen','Carol','Irene','Tom',\n",
    "           'Peter','Wanda','Yaakov', 'Luis','Zandra','Ronald','Mabel','Ursala','Eve',\n",
    "           'Frank','Ginger','Norm','Sarah','Jeff','Vince','Howard',\n",
    "           'Oprah']\n",
    "\n",
    "rbt = RBT()\n",
    "bst = BST()\n",
    "for p in people1:\n",
    "    bst.insert(p)\n",
    "    rbt.insert(p)\n",
    "\n",
    "print(rbt.tree.traverse_infix())\n",
    "print(bst.tree.traverse_infix())\n",
    "\n",
    "plot_tree(bst.tree, figsize=(14,4))\n",
    "plot_tree(rbt.tree, figsize=(14,4))"
   ]
  },
  {
   "cell_type": "code",
   "execution_count": 7,
   "metadata": {},
   "outputs": [
    {
     "data": {
      "image/png": "[encoded data removed]",
      "text/plain": [
       "<Figure size 720x144 with 1 Axes>"
      ]
     },
     "metadata": {
      "needs_background": "light"
     },
     "output_type": "display_data"
    },
    {
     "data": {
      "image/png": "[encoded data removed]",
      "text/plain": [
       "<Figure size 720x144 with 1 Axes>"
      ]
     },
     "metadata": {
      "needs_background": "light"
     },
     "output_type": "display_data"
    }
   ],
   "source": [
    "# Testing out delete on the family tree from homework 9\n",
    "people1 = ['Bob','Alice','Doug','Kathy','Queen','Carol','Irene','Tom',\n",
    "           'Peter','Wanda','Yaakov', 'Luis','Zandra','Ronald','Mabel','Ursala','Eve',\n",
    "           'Frank','Ginger','Norm','Sarah','Jeff','Vince','Howard',\n",
    "           'Oprah']\n",
    "\n",
    "rbt = RBT()\n",
    "for p in people1:\n",
    "    rbt.insert(p)\n",
    "\n",
    "plot_tree(rbt.tree, figsize=(10,2))\n",
    "rbt.delete('Mabel')\n",
    "plot_tree(rbt.tree, figsize=(10,2))"
   ]
  },
  {
   "cell_type": "markdown",
   "metadata": {},
   "source": [
    "#### Sorted data in a BST vs. RBT\n",
    "*Note the BST has a depth of nine vs. the RBT which has a depth of 3*"
   ]
  },
  {
   "cell_type": "code",
   "execution_count": 8,
   "metadata": {},
   "outputs": [
    {
     "data": {
      "image/png": "[encoded data removed]",
      "text/plain": [
       "<Figure size 720x360 with 1 Axes>"
      ]
     },
     "metadata": {
      "needs_background": "light"
     },
     "output_type": "display_data"
    },
    {
     "data": {
      "image/png": "[encoded data removed]",
      "text/plain": [
       "<Figure size 720x360 with 1 Axes>"
      ]
     },
     "metadata": {
      "needs_background": "light"
     },
     "output_type": "display_data"
    }
   ],
   "source": [
    "# Compare worst case insert in BST to how it is handled in RBT\n",
    "rbt2 = RBT()\n",
    "bst2 = BST()\n",
    "for i in range(10):\n",
    "    rbt2.insert(i)\n",
    "    bst2.insert(i)\n",
    "plot_tree(bst2.tree, figsize=(10,5))\n",
    "plot_tree(rbt2.tree, figsize=(10,5))"
   ]
  },
  {
   "cell_type": "markdown",
   "metadata": {},
   "source": [
    "### **5. Automated tests**\n",
    "In this section we implement and run several automated tests of the red/black tree code above."
   ]
  },
  {
   "cell_type": "code",
   "execution_count": 9,
   "metadata": {
    "scrolled": false
   },
   "outputs": [
    {
     "name": "stderr",
     "output_type": "stream",
     "text": [
      "......\n",
      "----------------------------------------------------------------------\n",
      "Ran 6 tests in 0.039s\n",
      "\n",
      "OK\n"
     ]
    },
    {
     "data": {
      "text/plain": [
       "<unittest.runner.TextTestResult run=6 errors=0 failures=0>"
      ]
     },
     "execution_count": 9,
     "metadata": {},
     "output_type": "execute_result"
    }
   ],
   "source": [
    "import unittest, sys, random\n",
    "\n",
    "class TestRBT(unittest.TestCase):\n",
    "    def test_sorted_input(self):\n",
    "        \"\"\"This test will create a RBT by inserting sorted input one element at a time. Some known values are compared to the result.\"\"\"\n",
    "        rbt = RBT()\n",
    "        for i in range(20):\n",
    "            rbt.insert(i)\n",
    "        self.assertEqual(rbt.tree.right.right.left.right.data, 14)\n",
    "        self.assertEqual(rbt.tree.right.right.right.color,1)\n",
    "        self.assertEqual(rbt._min(rbt.tree),0)\n",
    "        self.assertEqual(rbt._min(rbt.tree.left.right),4)\n",
    "        \n",
    "    def test_random_input(self):\n",
    "        \"\"\"This test will create a RBT by inserting random integer input one element at a time. Some known features are tested.\"\"\"\n",
    "        rbt = RBT()\n",
    "        rints = random.sample(xrange(20),20)\n",
    "        for i in rints:\n",
    "            rbt.insert(i)\n",
    "        self.assertEqual(rbt._min(rbt.tree),0)\n",
    "        self.assertEqual(rbt._min(rbt.tree.right)>0,True)\n",
    "        \n",
    "    def test_insert(self):\n",
    "        \"\"\"This test performs insertions with known outcomes and verifies the result.\"\"\"\n",
    "        rbt = RBT()\n",
    "        for i in range(0,22,3): rbt.insert(i)\n",
    "        self.assertEqual(rbt.tree.data,9)\n",
    "        for i in [10,11,13,14,16,17,19,20]: rbt.insert(i)\n",
    "        self.assertEqual(rbt.tree.data,15)\n",
    "        self.assertEqual(rbt.tree.left.right.right.right.data,14)\n",
    "        self.assertEqual(rbt.tree.left.right.right.color,0)\n",
    "        self.assertEqual(rbt.tree.left.right.right.right.color,1)\n",
    "        self.assertEqual(rbt._min(rbt.tree.right),16)\n",
    "        \n",
    "    def test_delete(self):\n",
    "        \"\"\"This test performs several deletions with known outcomes and verifies the result.\"\"\"\n",
    "        rbt = RBT()\n",
    "        for i in range(20): rbt.insert(i)\n",
    "        self.assertEqual(rbt.tree.data,7)\n",
    "        rbt.delete(11)\n",
    "        self.assertEqual(rbt.tree.right.data,12)\n",
    "        self.assertEqual(rbt.tree.right.right.left.left.left.data,13)\n",
    "        self.assertEqual(rbt.tree.right.right.left.left.left.color,1)\n",
    "        rbt.delete(13)\n",
    "        rbt.delete(7)\n",
    "        self.assertEqual(rbt.tree.data,8)\n",
    "        self.assertEqual(rbt.tree.left.left.color,0)\n",
    "        self.assertEqual(rbt.tree.right.right.right.left.data,18)\n",
    "        self.assertEqual(rbt.tree.right.right.right.left.color,1)\n",
    "    \n",
    "    def test_lookup(self):\n",
    "        \"\"\"This test performs lookup on empty and populated trees, looking both for entries present and absent.\"\"\"\n",
    "        rbt = RBT()\n",
    "        self.assertEqual(rbt.is_element(0),False)\n",
    "        for i in range(1788,2021,4): rbt.insert(i)\n",
    "        self.assertEqual(rbt.is_element(0),False)\n",
    "        self.assertEqual(rbt.is_element(2012),True)\n",
    "        self.assertEqual(rbt.is_element(2016),True)\n",
    "        rbt.delete(2016)\n",
    "        self.assertEqual(rbt.is_element(2012),True)\n",
    "        self.assertEqual(rbt.is_element(2016),False)\n",
    "    \n",
    "    def test_big_fill_and_empty(self):\n",
    "        \"\"\"This test fills a large rbt and then empties it.\"\"\"\n",
    "        rbt = RBT()\n",
    "        for i in range(500):\n",
    "            rbt.insert(i)\n",
    "        self.assertEqual(rbt._min(rbt.tree),0)\n",
    "        for i in range(499):\n",
    "            rbt.delete(i)\n",
    "        self.assertEqual(rbt.tree.data,499)\n",
    "        rbt.delete(499)\n",
    "        self.assertEqual(rbt.tree,None)\n",
    "        \n",
    "\n",
    "suiteRBT = unittest.TestLoader().loadTestsFromTestCase(TestRBT)\n",
    "unittest.TextTestRunner().run(suiteRBT)"
   ]
  },
  {
   "cell_type": "markdown",
   "metadata": {},
   "source": [
    "### **6. Timed comparisons of red/black trees with ordinary binary search trees**\n",
    "In this section, we use timeit to compare red/black trees to ordinary binary search trees in both worst cases (for binary search trees) and ordinary cases. Comparisons include insert, lookup, fill and empty, and traversal."
   ]
  },
  {
   "cell_type": "code",
   "execution_count": 10,
   "metadata": {},
   "outputs": [
    {
     "name": "stdout",
     "output_type": "stream",
     "text": [
      "RBT sorted input insert: 100 loops, best of 3: 7 ms per loop\n",
      " \n",
      "BST sorted input insert: 10 loops, best of 3: 41.3 ms per loop\n",
      "\n"
     ]
    }
   ],
   "source": [
    "# Comparison worst case insert via timeit\n",
    "rbt = RBT()\n",
    "bst = BST()\n",
    "n=500\n",
    "def ins_test(typ):\n",
    "    if typ == 'rbt' : tree = RBT()\n",
    "    else: tree = BST()\n",
    "    for i in range(n+1):\n",
    "        tree.insert(i)\n",
    "\n",
    "print 'RBT sorted input insert: ',\n",
    "%timeit ins_test('rbt')\n",
    "print '\\nBST sorted input insert: ',\n",
    "%timeit ins_test('bst')"
   ]
  },
  {
   "cell_type": "code",
   "execution_count": 11,
   "metadata": {},
   "outputs": [
    {
     "name": "stdout",
     "output_type": "stream",
     "text": [
      "RBT randomized input insert: 100 loops, best of 3: 14.6 ms per loop\n",
      " \n",
      "BST randomized input insert: 100 loops, best of 3: 4.53 ms per loop\n",
      "\n"
     ]
    }
   ],
   "source": [
    "# Comparing ordinary case insert via timeit\n",
    "n=1000\n",
    "def ins_test(typ):\n",
    "    rints = random.sample(xrange(n),n)\n",
    "    if typ == 'rbt' : tree = RBT()\n",
    "    else: tree = BST()\n",
    "    for i in range(n):\n",
    "        tree.insert(rints[i])\n",
    "\n",
    "print 'RBT randomized input insert: ',\n",
    "%timeit ins_test('rbt')\n",
    "print '\\nBST randomized input insert: ',\n",
    "%timeit ins_test('bst')\n"
   ]
  },
  {
   "cell_type": "code",
   "execution_count": 12,
   "metadata": {},
   "outputs": [
    {
     "name": "stdout",
     "output_type": "stream",
     "text": [
      "RBT sorted input lookup: 1000 loops, best of 3: 1.25 ms per loop\n",
      " \n",
      "BST sorted input lookup: 10 loops, best of 3: 39.2 ms per loop\n",
      "\n"
     ]
    }
   ],
   "source": [
    "# Comparing worst case lookup via timeit\n",
    "rbt = RBT()\n",
    "bst = BST()\n",
    "n=500\n",
    "for i in range(n+1):\n",
    "    rbt.insert(i)\n",
    "    bst.insert(i)\n",
    "def lookup_test(typ):\n",
    "    if typ == 'rbt' : tree = rbt\n",
    "    else: tree = bst\n",
    "    for i in range(n+1):\n",
    "        tree.is_element(i)\n",
    "\n",
    "print 'RBT sorted input lookup: ',\n",
    "%timeit lookup_test('rbt')\n",
    "print '\\nBST sorted input lookup: ',\n",
    "%timeit lookup_test('bst')"
   ]
  },
  {
   "cell_type": "code",
   "execution_count": 13,
   "metadata": {},
   "outputs": [
    {
     "name": "stdout",
     "output_type": "stream",
     "text": [
      "RBT randomized input lookup: 1000 loops, best of 3: 1.35 ms per loop\n",
      " \n",
      "BST randomized input lookup: 1000 loops, best of 3: 1.6 ms per loop\n",
      "\n"
     ]
    }
   ],
   "source": [
    "# Comparing ordinary case lookup via timeit\n",
    "rbt = RBT()\n",
    "bst = BST()\n",
    "n=500\n",
    "rints = random.sample(xrange(n),n)\n",
    "for i in rints:\n",
    "    rbt.insert(i)\n",
    "    bst.insert(i)\n",
    "def lookup_test(typ):\n",
    "    if typ == 'rbt' : tree = rbt\n",
    "    else: tree = bst\n",
    "    for i in range(n):\n",
    "        tree.is_element(i)\n",
    "\n",
    "print 'RBT randomized input lookup: ',\n",
    "%timeit lookup_test('rbt')\n",
    "print '\\nBST randomized input lookup: ',\n",
    "%timeit lookup_test('bst')"
   ]
  },
  {
   "cell_type": "code",
   "execution_count": 14,
   "metadata": {},
   "outputs": [
    {
     "name": "stdout",
     "output_type": "stream",
     "text": [
      "RBT sorted input fill and empty: 100 loops, best of 3: 6.94 ms per loop\n",
      " \n",
      "BST sorted input fill and empty: 10 loops, best of 3: 41.7 ms per loop\n",
      "\n"
     ]
    }
   ],
   "source": [
    "# Comparing worst case fill and empty via timeit\n",
    "n = 500\n",
    "def fill_empty_test(typ):\n",
    "    if typ == 'rbt' : tree = RBT()\n",
    "    else: tree = BST()\n",
    "    for i in range(n):\n",
    "        tree.insert(i)\n",
    "    for i in range(n-i):\n",
    "        tree.delete(i)\n",
    "\n",
    "print 'RBT sorted input fill and empty: ',\n",
    "%timeit fill_empty_test('rbt')\n",
    "print '\\nBST sorted input fill and empty: ',\n",
    "%timeit fill_empty_test('bst')"
   ]
  },
  {
   "cell_type": "code",
   "execution_count": 15,
   "metadata": {},
   "outputs": [
    {
     "name": "stdout",
     "output_type": "stream",
     "text": [
      "RBT randomized input fill and empty: 10 loops, best of 3: 21 ms per loop\n",
      " \n",
      "BST randomized input fill and empty: 100 loops, best of 3: 3.91 ms per loop\n",
      "\n"
     ]
    }
   ],
   "source": [
    "# Comparing ordinary case fill and empty via timeit\n",
    "n = 500\n",
    "def fill_empty_test(typ):\n",
    "    if typ == 'rbt' : tree = RBT()\n",
    "    else: tree = BST()\n",
    "    rints = random.sample(xrange(n),n)\n",
    "    for i in rints:\n",
    "        tree.insert(i)\n",
    "    rints = random.sample(xrange(n),n) # Resample so del is different order from insert\n",
    "    for i in rints:\n",
    "        tree.delete(i)\n",
    "\n",
    "print 'RBT randomized input fill and empty: ',\n",
    "%timeit fill_empty_test('rbt')\n",
    "print '\\nBST randomized input fill and empty: ',\n",
    "%timeit fill_empty_test('bst')"
   ]
  },
  {
   "cell_type": "code",
   "execution_count": 16,
   "metadata": {},
   "outputs": [
    {
     "name": "stdout",
     "output_type": "stream",
     "text": [
      "RBT sorted input traversal: 1000 loops, best of 3: 235 µs per loop\n",
      " \n",
      "BST sorted input traversal: 1000 loops, best of 3: 221 µs per loop\n",
      "\n"
     ]
    }
   ],
   "source": [
    "# Comparison of worst case traversal\n",
    "\n",
    "rbt = RBT()\n",
    "bst = BST()\n",
    "n=500\n",
    "for i in range(n+1):\n",
    "    rbt.insert(i)\n",
    "    bst.insert(i)\n",
    "    \n",
    "print 'RBT sorted input traversal: ',\n",
    "%timeit rbt.tree.traverse_infix()\n",
    "print '\\nBST sorted input traversal: ',\n",
    "%timeit bst.tree.traverse_infix()"
   ]
  },
  {
   "cell_type": "markdown",
   "metadata": {},
   "source": [
    "### **7. Graphing complexity of worst case for BST vs RBT**\n",
    "In this section, we borrow from homework 4 in order to graph the complexity of BST and RBT for worst-case (sorted) insert."
   ]
  },
  {
   "cell_type": "code",
   "execution_count": 17,
   "metadata": {},
   "outputs": [],
   "source": [
    "import numpy as np\n",
    "def fit_poly(x,y,k):\n",
    "    n = len(x)\n",
    "    x = np.array(x)\n",
    "    y = np.array(y)\n",
    "    A = np.zeros((n,k+1))\n",
    "    for i in range(k+1):\n",
    "        A[:,i] = np.array(x)**i\n",
    "        \n",
    "    c = np.linalg.lstsq(A,y)[0]\n",
    "    misfit = np.linalg.norm(np.dot(A,c)-y)    \n",
    "    return c, misfit"
   ]
  },
  {
   "cell_type": "code",
   "execution_count": 18,
   "metadata": {
    "scrolled": false
   },
   "outputs": [
    {
     "name": "stdout",
     "output_type": "stream",
     "text": [
      "RBT: sizes [10, 50, 100, 200, 300, 400, 500, 600]\n",
      "10000 loops, best of 3: 50.6 µs per loop\n",
      "1000 loops, best of 3: 443 µs per loop\n",
      "1000 loops, best of 3: 1.05 ms per loop\n",
      "100 loops, best of 3: 2.39 ms per loop\n",
      "100 loops, best of 3: 3.82 ms per loop\n",
      "100 loops, best of 3: 5.46 ms per loop\n",
      "100 loops, best of 3: 6.89 ms per loop\n",
      "100 loops, best of 3: 8.59 ms per loop\n",
      "\n",
      "BST: sizes [10, 50, 100, 200, 300, 400, 500, 600]\n",
      "10000 loops, best of 3: 22.5 µs per loop\n",
      "1000 loops, best of 3: 424 µs per loop\n",
      "1000 loops, best of 3: 1.64 ms per loop\n",
      "100 loops, best of 3: 6.36 ms per loop\n",
      "100 loops, best of 3: 14.8 ms per loop\n",
      "10 loops, best of 3: 26 ms per loop\n",
      "10 loops, best of 3: 45.6 ms per loop\n",
      "10 loops, best of 3: 59.8 ms per loop\n"
     ]
    }
   ],
   "source": [
    "def ins(typ,n):\n",
    "    if typ == 'rbt': tree=  RBT()\n",
    "    else: tree = BST()\n",
    "    for i in range(n):\n",
    "        tree.insert(i)\n",
    "    \n",
    "\n",
    "sizes = [10,50,100,200,300,400,500,600]\n",
    "print 'RBT: sizes',sizes\n",
    "for n in sizes:\n",
    "    %timeit ins('rbt',n)\n",
    "print    \n",
    "print 'BST: sizes',sizes\n",
    "for n in sizes:\n",
    "    %timeit ins('bst',n)"
   ]
  },
  {
   "cell_type": "code",
   "execution_count": 19,
   "metadata": {
    "scrolled": false
   },
   "outputs": [
    {
     "name": "stdout",
     "output_type": "stream",
     "text": [
      "RBT coefficients: [-1.72770803e+02  1.22435958e+01  3.87902650e-03]\n",
      "RBT misfit: 390.65915950273194\n",
      "\n",
      "BST coefficients: [ 4.46339263e+02 -8.79742814e+00  2.06581997e-01]\n",
      "BST misfit: 1675.3618059750413\n"
     ]
    },
    {
     "name": "stderr",
     "output_type": "stream",
     "text": [
      "C:\\Users\\carle\\Anaconda3\\envs\\py27\\lib\\site-packages\\ipykernel_launcher.py:10: FutureWarning: `rcond` parameter will change to the default of machine precision times ``max(M, N)`` where M and N are the input matrix dimensions.\n",
      "To use the future default and silence this warning we advise to pass `rcond=None`, to keep using the old, explicitly pass `rcond=-1`.\n",
      "  # Remove the CWD from sys.path while we load stuff.\n"
     ]
    }
   ],
   "source": [
    "rbt_times = [56, 438, 1020, 2350, 3680, 5650, 6930, 8480]\n",
    "bst_times = [25, 460, 1910, 7200, 17300, 28900, 47200, 70100]\n",
    "\n",
    "c_rbt, misfit_rbt = fit_poly(sizes,rbt_times,2)\n",
    "print \"RBT coefficients:\",c_rbt\n",
    "print \"RBT misfit:\", misfit_rbt\n",
    "print\n",
    "c_bst, misfit_bst = fit_poly(sizes,bst_times,2)\n",
    "print \"BST coefficients:\",c_bst\n",
    "print \"BST misfit:\", misfit_bst"
   ]
  },
  {
   "cell_type": "code",
   "execution_count": 20,
   "metadata": {},
   "outputs": [
    {
     "data": {
      "image/png": "[encoded data removed]",
      "text/plain": [
       "<Figure size 720x360 with 1 Axes>"
      ]
     },
     "metadata": {
      "needs_background": "light"
     },
     "output_type": "display_data"
    }
   ],
   "source": [
    "xx = np.linspace(0,sizes[-1],10)\n",
    "yy_rbt = xx * 0\n",
    "yy_bst = xx * 0\n",
    "for idx,cc in enumerate(c_rbt):\n",
    "    yy_rbt = yy_rbt + cc*xx**idx\n",
    "for idx,cc in enumerate(c_bst):\n",
    "    yy_bst = yy_bst + cc*xx**idx\n",
    "\n",
    "\n",
    "plt.plot(sizes, rbt_times, 'ko', label='RBT times')\n",
    "plt.plot(xx, yy_rbt, 'r')\n",
    "plt.plot(sizes, bst_times, 'o')\n",
    "plt.plot(xx, yy_bst, 'b')\n",
    "plt.xlabel('Number of inserts')\n",
    "plt.ylabel('Time (microseconds)')\n",
    "plt.legend(('RBT times','RBT polyfit','BST times','BST polyfit'),loc=2)\n",
    "plt.show()"
   ]
  },
  {
   "cell_type": "code",
   "execution_count": null,
   "metadata": {},
   "outputs": [],
   "source": []
  }
 ],
 "metadata": {
  "kernelspec": {
   "display_name": "Python 2",
   "language": "python",
   "name": "python2"
  },
  "language_info": {
   "codemirror_mode": {
    "name": "ipython",
    "version": 2
   },
   "file_extension": ".py",
   "mimetype": "text/x-python",
   "name": "python",
   "nbconvert_exporter": "python",
   "pygments_lexer": "ipython2",
   "version": "2.7.15"
  }
 },
 "nbformat": 4,
 "nbformat_minor": 1
}
